{
 "cells": [
  {
   "cell_type": "code",
   "execution_count": 25,
   "metadata": {},
   "outputs": [],
   "source": [
    "import urllib2\n",
    "import pandas as pd\n",
    "import numpy as np\n",
    "import matplotlib.pyplot as plt\n",
    "\n",
    "import re\n",
    "import json\n",
    "from collections import defaultdict\n",
    "\n",
    "import datetime as dt\n",
    "import progressbar\n",
    "\n",
    "import time\n",
    "from BeautifulSoup import BeautifulSoup"
   ]
  },
  {
   "cell_type": "code",
   "execution_count": 26,
   "metadata": {},
   "outputs": [
    {
     "name": "stdout",
     "output_type": "stream",
     "text": [
      "Star Wars: Episode II Attack of the Clones\n",
      "Star Wars: The Clone Wars (film)\n",
      "Star Wars: Episode VII The Force Awakens\n",
      "Star Wars: Episode III Revenge of the Sith\n",
      "Star Wars: Episode V The Empire Strikes Back\n",
      "Rogue One: A Star Wars Story\n",
      "Solo: A Star Wars Story\n",
      "Star Wars: Episode IV A New Hope\n",
      "Star Wars: Episode VIII The Last Jedi\n",
      "Star Wars: Episode VI Return of the Jedi\n",
      "Star Wars: Episode I The Phantom Menice\n",
      "DONE PROCESSING MOVIES\n",
      "\n",
      "['Star Wars: Episode II Attack of the Clones', 'Star Wars: The Clone Wars (film)', 'Solo: A Star Wars Story', 'Star Wars: Episode VII The Force Awakens', 'Rogue One: A Star Wars Story', 'Star Wars: Episode VIII The Last Jedi', 'Star Wars: Episode V The Empire Strikes Back', 'Star Wars: Episode III Revenge of the Sith', 'Star Wars: Episode VI Return of the Jedi', 'Star Wars: Episode I The Phantom Menice', 'Star Wars: Episode IV A New Hope']\n"
     ]
    }
   ],
   "source": [
    "\n",
    "\n",
    "urls = {\n",
    "    \"Star Wars: Episode I The Phantom Menice\": \"https://www.springfieldspringfield.co.uk/movie_script.php?movie=star-wars-episode-i-the-phantom-menace\",\n",
    "    \"Star Wars: Episode II Attack of the Clones\": \"https://www.springfieldspringfield.co.uk/movie_script.php?movie=star-wars-episode-ii-attack-of-the-clones\",\n",
    "    \"Star Wars: The Clone Wars (film)\": \"https://www.springfieldspringfield.co.uk/movie_script.php?movie=star-wars-the-clone-wars\",\n",
    "    \"Star Wars: Episode III Revenge of the Sith\": \"https://www.springfieldspringfield.co.uk/movie_script.php?movie=star-wars-episode-iii-revenge-of-the-sith\",\n",
    "    \"Solo: A Star Wars Story\": \"https://www.springfieldspringfield.co.uk/movie_script.php?movie=solo-a-star-wars-story\",\n",
    "    \"Rogue One: A Star Wars Story\": \"https://www.springfieldspringfield.co.uk/movie_script.php?movie=rogue-one-a-star-wars-story\",\n",
    "    \"Star Wars: Episode IV A New Hope\": \"https://www.springfieldspringfield.co.uk/movie_script.php?movie=star-wars-episode-iv-a-new-hope\",\n",
    "    \"Star Wars: Episode V The Empire Strikes Back\": \"https://www.springfieldspringfield.co.uk/movie_script.php?movie=star-wars-episode-v-the-empire-strikes-back\",\n",
    "    \"Star Wars: Episode VI Return of the Jedi\": \"https://www.springfieldspringfield.co.uk/movie_script.php?movie=star-wars-episode-vi-return-of-the-jedi\",\n",
    "    \"Star Wars: Episode VII The Force Awakens\": \"https://www.springfieldspringfield.co.uk/movie_script.php?movie=star-wars-episode-vii-the-force-awakens\",\n",
    "    \"Star Wars: Episode VIII The Last Jedi\": \"https://www.springfieldspringfield.co.uk/movie_script.php?movie=star-wars-episode-viii-the-last-jedi\"\n",
    "}\n",
    "\n",
    "partial_url = \"http://transcripts.wikia.com/api.php?action=query&prop=revisions&titles={0}&rvprop=content&format=json\"\n",
    "\n",
    "starwars_json = {\"data\": {\"movies\": defaultdict(dict), \"series\": defaultdict(dict)},\n",
    "               \"failed\": {\"movies\": {}, \"series\": {}}}\n",
    "for movie in urls.keys():\n",
    "    print movie\n",
    "    query = urls[movie]\n",
    "    try:\n",
    "        response = urllib2.urlopen(query, timeout=2)\n",
    "        source = response.read()\n",
    "        \n",
    "        # Load the response as .json and extract the relevant information into wikimarkup\n",
    "        content = source.split(\"\"\"<div class=\"scrolling-script-container\">\"\"\")[1].split(\"</div>\")[0]\n",
    "        \n",
    "        no_html = re.compile(r\"<[^>]+>\")\n",
    "        text = no_html.sub(\"\", content)\n",
    "\n",
    "        starwars_json[\"data\"][\"movies\"][movie] = {\"transcript\": text}\n",
    "    \n",
    "    except Exception as e:\n",
    "        print \"Unexpected Failure During Movie Processing\"\n",
    "        print e\n",
    "        print query\n",
    "\n",
    "print \"DONE PROCESSING MOVIES\"\n",
    "print        \n",
    "print starwars_json[\"data\"][\"movies\"].keys()\n",
    "\n",
    "# with open(\"films.json\", 'w') as f:\n",
    "#     json.dumps(movies_json, f)"
   ]
  },
  {
   "cell_type": "code",
   "execution_count": 28,
   "metadata": {},
   "outputs": [
    {
     "name": "stdout",
     "output_type": "stream",
     "text": [
      "STARTING TO PROCESS SERIES AT 2018-11-14 22:49:25.294000\n",
      "Star Wars: The Clone Wars (series)\n",
      "Star Wars Rebels\n",
      "['Star Wars Rebels', 'Star Wars: The Clone Wars (series)']\n"
     ]
    }
   ],
   "source": [
    "# animated_json = {\"data\": {\"movies\": defaultdict(dict), \"series\": defaultdict(dict), \"characters\": defaultdict(dict)},\n",
    "#                \"failed\": {\"movies\": {}, \"series\": {}, \"characters\": {}}}\n",
    "\n",
    "# animated_movies = [\"Star Wars: The Clone Wars (film)\"]\n",
    "\n",
    "animated_series_names = [\"Star Wars: The Clone Wars (series)\", \"Star Wars Rebels\"]\n",
    "\n",
    "animated_queries = {\"Star Wars: The Clone Wars (series)\": [\"https://www.springfieldspringfield.co.uk/episode_scripts.php?tv-show=star-wars-the-clone-wars\",\n",
    "                                                           [\"Season 1\", \"Season 2\",\n",
    "                                                            \"Season 3\", \"Season 4\",\n",
    "                                                            \"Season 5\", \"Season 6\"]],\n",
    "                   \"Star Wars Rebels\": [\"https://www.springfieldspringfield.co.uk/episode_scripts.php?tv-show=star-wars-rebels-2014\", [\"Season 1\", \"Season 2\", \"Season 3\", \"Season 4\"]]}\n",
    "\n",
    "print \"STARTING TO PROCESS SERIES AT {0}\".format(dt.datetime.now())\n",
    "for series in animated_series_names:\n",
    "    print series\n",
    "    series_query = animated_queries[series][0]\n",
    "    series_response = urllib2.urlopen(series_query)\n",
    "    series_source = series_response.read()\n",
    "    seasons = series_source.split(\"\"\"<div class=\"season-episodes\">\"\"\")[1:]\n",
    "    \n",
    "    for season in seasons:\n",
    "        season = season.split(\"</div>\")[0]\n",
    "        soup = BeautifulSoup(season)\n",
    "        episode_list = {}\n",
    "        for link in soup.findAll('a'):\n",
    "            episode_list[\" \".join(link.contents[0].split(\" \")[1:])]=link.get('href')\n",
    "\n",
    "        for episode in episode_list.keys():\n",
    "            query = \"https://www.springfieldspringfield.co.uk/{0}\".format(episode_list[episode])\n",
    "            try:\n",
    "                response = urllib2.urlopen(query, timeout=2)\n",
    "                source = response.read()\n",
    "\n",
    "                # Load the response as .json and extract the relevant information into wikimarkup\n",
    "                content = source.split(\"\"\"<div class=\"scrolling-script-container\">\"\"\")[1].split(\"</div>\")[0]\n",
    "\n",
    "                no_html = re.compile(r\"<[^>]+>\")\n",
    "                text = no_html.sub(\"\", content)\n",
    "                episode_nr = episode_list[episode].split(\"episode=\")[1]\n",
    "                if not episode_nr.startswith(\"s00\"):\n",
    "                    starwars_json[\"data\"][\"series\"][series][episode] = {\"transcript\": text, \"episode\": episode_nr}\n",
    "            except Exception as e:\n",
    "                print e\n",
    "        \n",
    "print starwars_json[\"data\"][\"series\"].keys()"
   ]
  },
  {
   "cell_type": "code",
   "execution_count": 31,
   "metadata": {},
   "outputs": [
    {
     "name": "stdout",
     "output_type": "stream",
     "text": [
      "[u'Deception', u'Revival', u'Rising Malevolence', u'The Zillo Beast', u'The Gungan General', u'An Old Friend', u'Sabotage', u'Defenders of Peace', u'Nightsisters', u'The Jedi Who Knew Too Much', u'Ghosts of Mortis', u'Legacy of Terror', u'Lightsaber Lost', u'Landing at Point Rain', u'A Necessary Bond', u'Blue Shadow Virus', u'Assassin', u'The Rise Of Clovis', u'Slaves of the Republic', u'Pursuit of Peace', u'Dooku Captured', u'Crisis At The Heart', u'Shadow Warrior', u'Crisis on Naboo', u'Destiny', u'The Citadel', u'Duel of the Droids', u'Grievous Intrigue / The Deserter', u'The Disappeared (2)', u'R2 Come Home / Lethal Trackdown', u'Hostage Crisis', u'The Lawless', u'The Lair of General Grievous', u'Children of the Force', u'Nomad Droids', u'Tipping Points', u'Sacrifice', u'Escape from Kadavo', u'Hunt for Ziro', u'Clone Cadets / ARC Troopers', u'The Disappeared (1)', u'The Lost One', u'Gungan Attack', u'Point of No Return', u'The Box', u'Front Runners', u'Evil Plans', u'Cat and Mouse', u'A Friend in Need', u'Bound for Rescue', u'Bombad Jedi', u'Conspiracy', u'Senate Murders', u'Plan of Dissent', u'A Sunny Day in the Void', u'Rookies', u'Downfall of a Droid', u'Jedi Crash', u'Liberty of Ryloth', u'Overlords', u'Missing in Action', u'Corruption', u'Brothers', u'Water War', u'Mercy Mission', u'Condition Unknown', u'Fugitive', u'Cloak of Darkness', u'Darkness on Umbara', u'The Zillo Beast Strikes Back', u'The Gathering', u'Ambush', u'A Test of Strength', u'To Catch a Jedi', u'Senate Spy', u'Storm Over Ryloth', u'Carnage of Krell', u'Voyage of Temptation', u'Trespass', u'Counter Attack', u'Eminence', u'Shadow Malevolence', u'Weapons Factory', u'Hidden Enemy', u'Friends and Enemies', u'Wookiee Hunt', u'Bounty', u'Brain Invaders', u'The Wrong Jedi', u'Padawan Lost', u'Monster', u'A War on Two Fronts', u'Massacre', u'Revenge', u'Sphere of Influence', u'Kidnapped', u'Duchess of Mandalore', u'Heroes on Both Sides', u'The Soft War', u'Mystery of a Thousand Moons', u'Citadel Rescue', u'Bounty Hunters', u'Innocents of Ryloth', u'Holocron Heist / Cargo of Doom', u'Death Trap', u'The Mandalore Plot', u'Secret Weapons', u'Destroy Malevolence', u'The Academy', u'Prisoners', u'Supply Lines', u'Voices', u'The General', u'Witches of the Mist', u'Altar of Mortis', u'Orders', u'Shades of Reason']\n"
     ]
    }
   ],
   "source": [
    "print starwars_json[\"data\"][\"series\"]['Star Wars: The Clone Wars (series)'].keys()"
   ]
  },
  {
   "cell_type": "code",
   "execution_count": null,
   "metadata": {},
   "outputs": [],
   "source": []
  },
  {
   "cell_type": "code",
   "execution_count": 32,
   "metadata": {},
   "outputs": [],
   "source": [
    "with open(\"starwars_transcripts_springfield.json\", 'w') as f:\n",
    "    json.dump(starwars_json, f)"
   ]
  },
  {
   "cell_type": "code",
   "execution_count": null,
   "metadata": {},
   "outputs": [],
   "source": []
  }
 ],
 "metadata": {
  "kernelspec": {
   "display_name": "Python 2",
   "language": "python",
   "name": "python2"
  },
  "language_info": {
   "codemirror_mode": {
    "name": "ipython",
    "version": 2
   },
   "file_extension": ".py",
   "mimetype": "text/x-python",
   "name": "python",
   "nbconvert_exporter": "python",
   "pygments_lexer": "ipython2",
   "version": "2.7.15"
  }
 },
 "nbformat": 4,
 "nbformat_minor": 2
}
